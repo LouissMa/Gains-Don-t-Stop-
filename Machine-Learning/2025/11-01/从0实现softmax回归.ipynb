{
 "cells": [
  {
   "cell_type": "code",
   "execution_count": 1,
   "id": "2d78b3bd",
   "metadata": {},
   "outputs": [],
   "source": [
    "import torch\n",
    "import torchvision\n",
    "import numpy as np\n",
    "import sys\n",
    "import d2l.torch as d2l\n"
   ]
  },
  {
   "cell_type": "markdown",
   "id": "f8a23549",
   "metadata": {},
   "source": [
    "1.获取和读取数据"
   ]
  },
  {
   "cell_type": "code",
   "execution_count": 2,
   "id": "caa66726",
   "metadata": {},
   "outputs": [
    {
     "name": "stderr",
     "output_type": "stream",
     "text": [
      "100%|██████████| 26.4M/26.4M [00:02<00:00, 11.4MB/s]\n",
      "100%|██████████| 29.5k/29.5k [00:00<00:00, 111kB/s]\n",
      "100%|██████████| 4.42M/4.42M [00:01<00:00, 2.72MB/s]\n",
      "100%|██████████| 5.15k/5.15k [00:00<00:00, 19.7MB/s]\n"
     ]
    }
   ],
   "source": [
    "batch_size = 256\n",
    "train_iter,test_iter = d2l.load_data_fashion_mnist(batch_size)"
   ]
  },
  {
   "cell_type": "code",
   "execution_count": 3,
   "id": "18e68623",
   "metadata": {},
   "outputs": [
    {
     "name": "stdout",
     "output_type": "stream",
     "text": [
      "不同批量大小的批次数量：\n",
      "批量大小32: 训练集1875批次, 测试集312批次\n",
      "批量大小128: 训练集468批次, 测试集78批次\n",
      "批量大小512: 训练集117批次, 测试集19批次\n"
     ]
    }
   ],
   "source": [
    "# 你可以试试不同的批量大小\n",
    "small_batch = 32\n",
    "medium_batch = 128\n",
    "large_batch = 512\n",
    "\n",
    "print(\"不同批量大小的批次数量：\")\n",
    "print(f\"批量大小{small_batch}: 训练集{60000//small_batch}批次, 测试集{10000//small_batch}批次\")\n",
    "print(f\"批量大小{medium_batch}: 训练集{60000//medium_batch}批次, 测试集{10000//medium_batch}批次\")\n",
    "print(f\"批量大小{large_batch}: 训练集{60000//large_batch}批次, 测试集{10000//large_batch}批次\")"
   ]
  },
  {
   "cell_type": "markdown",
   "id": "35dd2bb9",
   "metadata": {},
   "source": [
    "2.初始化模型参数"
   ]
  },
  {
   "cell_type": "code",
   "execution_count": 5,
   "id": "1e7f2a8a",
   "metadata": {},
   "outputs": [
    {
     "data": {
      "text/plain": [
       "tensor([0., 0., 0., 0., 0., 0., 0., 0., 0., 0.], requires_grad=True)"
      ]
     },
     "execution_count": 5,
     "metadata": {},
     "output_type": "execute_result"
    }
   ],
   "source": [
    "num_inputs = 784\n",
    "num_outputs = 10\n",
    "w = torch.tensor(np.random.normal(0,0.01,(num_inputs, num_outputs)),dtype = torch.float)\n",
    "b = torch.zeros(num_outputs, dtype=torch.float)\n",
    "w.requires_grad_(True)\n",
    "b.requires_grad_(True)"
   ]
  },
  {
   "cell_type": "code",
   "execution_count": 6,
   "id": "5d6fb2b1",
   "metadata": {},
   "outputs": [
    {
     "name": "stdout",
     "output_type": "stream",
     "text": [
      "tensor([[5, 7, 9]])\n",
      "tensor([[ 6],\n",
      "        [15]])\n"
     ]
    }
   ],
   "source": [
    "#tensor按维度计算\n",
    "a = torch.tensor([[1, 2, 3], [4, 5, 6]])\n",
    "print(a.sum(dim = 0,keepdim=True))\n",
    "print(a.sum(dim = 1,keepdim=True))"
   ]
  },
  {
   "cell_type": "markdown",
   "id": "fde2ca52",
   "metadata": {},
   "source": [
    "3.实现Softmax运算"
   ]
  },
  {
   "cell_type": "code",
   "execution_count": 8,
   "id": "9ee8528d",
   "metadata": {},
   "outputs": [
    {
     "name": "stdout",
     "output_type": "stream",
     "text": [
      "tensor([[0.9075, 0.9583, 0.8524, 0.5504, 0.0106],\n",
      "        [0.4688, 0.7430, 0.5210, 0.7046, 0.4097]])\n",
      "tensor([[0.2435, 0.2562, 0.2305, 0.1704, 0.0993],\n",
      "        [0.1793, 0.2359, 0.1889, 0.2270, 0.1690]]) tensor([1.0000, 1.0000])\n"
     ]
    }
   ],
   "source": [
    "def softmax(X):\n",
    "    X_exp = X.exp()\n",
    "    partition = X_exp.sum(dim = 1, keepdim = True)\n",
    "    return X_exp / partition\n",
    "\n",
    "X = torch.rand((2,5))\n",
    "print(X)\n",
    "X_prob = softmax(X)\n",
    "print(X_prob, X_prob.sum(dim = 1))"
   ]
  },
  {
   "cell_type": "markdown",
   "id": "5c83e914",
   "metadata": {},
   "source": [
    "4.定义模型"
   ]
  },
  {
   "cell_type": "code",
   "execution_count": 9,
   "id": "77a19b7d",
   "metadata": {},
   "outputs": [],
   "source": [
    "def net(X):\n",
    "    return softmax(torch.mm(X.view(-1,num_inputs),w) + b)"
   ]
  },
  {
   "cell_type": "markdown",
   "id": "9a6965ee",
   "metadata": {},
   "source": [
    "5.定义损失函数"
   ]
  },
  {
   "cell_type": "code",
   "execution_count": 11,
   "id": "bc917a54",
   "metadata": {},
   "outputs": [
    {
     "name": "stdout",
     "output_type": "stream",
     "text": [
      "tensor([[0.1000],\n",
      "        [0.5000]])\n"
     ]
    }
   ],
   "source": [
    "y_hat = torch.tensor([[0.1, 0.3, 0.6], [0.3, 0.2, 0.5]])  # 预测概率\n",
    "y = torch.LongTensor([0, 2])  # 真实标签\n",
    "result = y_hat.gather(1, y.view(-1, 1))\n",
    "print(result)\n",
    "\n",
    "def cross_entropy(y_hat, y):\n",
    "    return - torch.log(y_hat.gather(1,y.view(-1,1)))"
   ]
  },
  {
   "cell_type": "markdown",
   "id": "d4f50dd3",
   "metadata": {},
   "source": [
    "6.计算分类准确率"
   ]
  },
  {
   "cell_type": "code",
   "execution_count": 14,
   "id": "ff77fc26",
   "metadata": {},
   "outputs": [
    {
     "name": "stdout",
     "output_type": "stream",
     "text": [
      "0.5\n",
      "0.0422\n"
     ]
    }
   ],
   "source": [
    "def accuracy(y_hat, y):\n",
    "    return (y_hat.argmax(dim = 1) == y).float().mean().item()\n",
    "print(accuracy(y_hat,y))\n",
    "\n",
    "#模型 net 在数据集 data_iter 上的准确率\n",
    "def evaluate_accuracy(data_iter, net):\n",
    "    acc_sum, n = 0.0, 0\n",
    "    for X, y in data_iter:\n",
    "        acc_sum += (net(X).argmax(dim=1) == y).float().sum().item()\n",
    "        n += y.shape[0]\n",
    "    return acc_sum / n\n",
    "print(evaluate_accuracy(test_iter, net))"
   ]
  },
  {
   "cell_type": "markdown",
   "id": "17032945",
   "metadata": {},
   "source": [
    "7.训练模型"
   ]
  },
  {
   "cell_type": "code",
   "execution_count": 18,
   "id": "18564877",
   "metadata": {},
   "outputs": [
    {
     "name": "stdout",
     "output_type": "stream",
     "text": [
      "epoch 1, loss 0.7879, train acc 0.748, test acc 0.790\n",
      "epoch 2, loss 0.5716, train acc 0.812, test acc 0.810\n",
      "epoch 3, loss 0.5257, train acc 0.825, test acc 0.820\n",
      "epoch 4, loss 0.5009, train acc 0.833, test acc 0.823\n",
      "epoch 5, loss 0.4857, train acc 0.836, test acc 0.827\n"
     ]
    }
   ],
   "source": [
    "# 添加SGD优化函数定义\n",
    "def sgd(params, lr, batch_size):\n",
    "    \"\"\"小批量随机梯度下降算法\"\"\"\n",
    "    with torch.no_grad():\n",
    "        for param in params:\n",
    "            param -= lr * param.grad / batch_size\n",
    "\n",
    "num_epochs,lr = 5, 0.1\n",
    "def train_ch3(net,train_iter,test_iter,loss,num_epochs,batch_size,params=None,lr=None,optimizer=None):\n",
    "    for epoch in range(num_epochs):\n",
    "        train_l_sum, train_acc_sum, n = 0.0, 0.0, 0\n",
    "        for X,y in train_iter:\n",
    "            y_hat = net(X)\n",
    "            l = loss(y_hat,y).sum()\n",
    "            # 梯度清零\n",
    "            if optimizer is not None:\n",
    "                optimizer.zero_grad()\n",
    "            elif params is not None and params[0].grad is not None:\n",
    "                for param in params:\n",
    "                    param.grad.data.zero_()\n",
    "            l.backward()\n",
    "            if optimizer is None:\n",
    "                sgd(params,lr,batch_size)\n",
    "            else:\n",
    "                optimizer.step()\n",
    "            train_l_sum += l.item()\n",
    "            train_acc_sum += (y_hat.argmax(dim=1) == y).sum().item()\n",
    "            n += y.shape[0]\n",
    "        test_acc = evaluate_accuracy(test_iter, net)\n",
    "        print('epoch %d, loss %.4f, train acc %.3f, test acc %.3f'% (epoch + 1, train_l_sum / n, train_acc_sum / n, test_acc))\n",
    "train_ch3(net, train_iter, test_iter, cross_entropy, num_epochs, batch_size, [w, b], lr)"
   ]
  }
 ],
 "metadata": {
  "kernelspec": {
   "display_name": "Python 3",
   "language": "python",
   "name": "python3"
  },
  "language_info": {
   "codemirror_mode": {
    "name": "ipython",
    "version": 3
   },
   "file_extension": ".py",
   "mimetype": "text/x-python",
   "name": "python",
   "nbconvert_exporter": "python",
   "pygments_lexer": "ipython3",
   "version": "3.13.2"
  }
 },
 "nbformat": 4,
 "nbformat_minor": 5
}
